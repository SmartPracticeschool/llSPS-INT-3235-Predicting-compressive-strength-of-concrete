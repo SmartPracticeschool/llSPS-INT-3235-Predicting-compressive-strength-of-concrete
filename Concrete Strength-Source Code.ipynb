{
 "cells": [
  {
   "cell_type": "markdown",
   "metadata": {},
   "source": [
    "IMPORTING LIBRARIES"
   ]
  },
  {
   "cell_type": "code",
   "execution_count": 1,
   "metadata": {},
   "outputs": [],
   "source": [
    "import numpy as np\n",
    "import pandas as pd\n",
    "import matplotlib.pyplot as plt"
   ]
  },
  {
   "cell_type": "markdown",
   "metadata": {},
   "source": [
    "IMPORTING DATASET"
   ]
  },
  {
   "cell_type": "code",
   "execution_count": 2,
   "metadata": {},
   "outputs": [
    {
     "data": {
      "text/html": [
       "<div>\n",
       "<style scoped>\n",
       "    .dataframe tbody tr th:only-of-type {\n",
       "        vertical-align: middle;\n",
       "    }\n",
       "\n",
       "    .dataframe tbody tr th {\n",
       "        vertical-align: top;\n",
       "    }\n",
       "\n",
       "    .dataframe thead th {\n",
       "        text-align: right;\n",
       "    }\n",
       "</style>\n",
       "<table border=\"1\" class=\"dataframe\">\n",
       "  <thead>\n",
       "    <tr style=\"text-align: right;\">\n",
       "      <th></th>\n",
       "      <th>Cement (component 1)(kg in a m^3 mixture)</th>\n",
       "      <th>Blast Furnace Slag (component 2)(kg in a m^3 mixture)</th>\n",
       "      <th>Fly Ash (component 3)(kg in a m^3 mixture)</th>\n",
       "      <th>Water  (component 4)(kg in a m^3 mixture)</th>\n",
       "      <th>Superplasticizer (component 5)(kg in a m^3 mixture)</th>\n",
       "      <th>Coarse Aggregate  (component 6)(kg in a m^3 mixture)</th>\n",
       "      <th>Fine Aggregate (component 7)(kg in a m^3 mixture)</th>\n",
       "      <th>Age (day)</th>\n",
       "      <th>Concrete compressive strength(MPa, megapascals)</th>\n",
       "    </tr>\n",
       "  </thead>\n",
       "  <tbody>\n",
       "    <tr>\n",
       "      <th>0</th>\n",
       "      <td>540.0</td>\n",
       "      <td>0.0</td>\n",
       "      <td>0.0</td>\n",
       "      <td>162.0</td>\n",
       "      <td>2.5</td>\n",
       "      <td>1040.0</td>\n",
       "      <td>676.0</td>\n",
       "      <td>28</td>\n",
       "      <td>79.99</td>\n",
       "    </tr>\n",
       "    <tr>\n",
       "      <th>1</th>\n",
       "      <td>540.0</td>\n",
       "      <td>0.0</td>\n",
       "      <td>0.0</td>\n",
       "      <td>162.0</td>\n",
       "      <td>2.5</td>\n",
       "      <td>1055.0</td>\n",
       "      <td>676.0</td>\n",
       "      <td>28</td>\n",
       "      <td>61.89</td>\n",
       "    </tr>\n",
       "    <tr>\n",
       "      <th>2</th>\n",
       "      <td>332.5</td>\n",
       "      <td>142.5</td>\n",
       "      <td>0.0</td>\n",
       "      <td>228.0</td>\n",
       "      <td>0.0</td>\n",
       "      <td>932.0</td>\n",
       "      <td>594.0</td>\n",
       "      <td>270</td>\n",
       "      <td>40.27</td>\n",
       "    </tr>\n",
       "    <tr>\n",
       "      <th>3</th>\n",
       "      <td>332.5</td>\n",
       "      <td>142.5</td>\n",
       "      <td>0.0</td>\n",
       "      <td>228.0</td>\n",
       "      <td>0.0</td>\n",
       "      <td>932.0</td>\n",
       "      <td>594.0</td>\n",
       "      <td>365</td>\n",
       "      <td>41.05</td>\n",
       "    </tr>\n",
       "    <tr>\n",
       "      <th>4</th>\n",
       "      <td>198.6</td>\n",
       "      <td>132.4</td>\n",
       "      <td>0.0</td>\n",
       "      <td>192.0</td>\n",
       "      <td>0.0</td>\n",
       "      <td>978.4</td>\n",
       "      <td>825.5</td>\n",
       "      <td>360</td>\n",
       "      <td>44.30</td>\n",
       "    </tr>\n",
       "    <tr>\n",
       "      <th>...</th>\n",
       "      <td>...</td>\n",
       "      <td>...</td>\n",
       "      <td>...</td>\n",
       "      <td>...</td>\n",
       "      <td>...</td>\n",
       "      <td>...</td>\n",
       "      <td>...</td>\n",
       "      <td>...</td>\n",
       "      <td>...</td>\n",
       "    </tr>\n",
       "    <tr>\n",
       "      <th>1025</th>\n",
       "      <td>276.4</td>\n",
       "      <td>116.0</td>\n",
       "      <td>90.3</td>\n",
       "      <td>179.6</td>\n",
       "      <td>8.9</td>\n",
       "      <td>870.1</td>\n",
       "      <td>768.3</td>\n",
       "      <td>28</td>\n",
       "      <td>44.28</td>\n",
       "    </tr>\n",
       "    <tr>\n",
       "      <th>1026</th>\n",
       "      <td>322.2</td>\n",
       "      <td>0.0</td>\n",
       "      <td>115.6</td>\n",
       "      <td>196.0</td>\n",
       "      <td>10.4</td>\n",
       "      <td>817.9</td>\n",
       "      <td>813.4</td>\n",
       "      <td>28</td>\n",
       "      <td>31.18</td>\n",
       "    </tr>\n",
       "    <tr>\n",
       "      <th>1027</th>\n",
       "      <td>148.5</td>\n",
       "      <td>139.4</td>\n",
       "      <td>108.6</td>\n",
       "      <td>192.7</td>\n",
       "      <td>6.1</td>\n",
       "      <td>892.4</td>\n",
       "      <td>780.0</td>\n",
       "      <td>28</td>\n",
       "      <td>23.70</td>\n",
       "    </tr>\n",
       "    <tr>\n",
       "      <th>1028</th>\n",
       "      <td>159.1</td>\n",
       "      <td>186.7</td>\n",
       "      <td>0.0</td>\n",
       "      <td>175.6</td>\n",
       "      <td>11.3</td>\n",
       "      <td>989.6</td>\n",
       "      <td>788.9</td>\n",
       "      <td>28</td>\n",
       "      <td>32.77</td>\n",
       "    </tr>\n",
       "    <tr>\n",
       "      <th>1029</th>\n",
       "      <td>260.9</td>\n",
       "      <td>100.5</td>\n",
       "      <td>78.3</td>\n",
       "      <td>200.6</td>\n",
       "      <td>8.6</td>\n",
       "      <td>864.5</td>\n",
       "      <td>761.5</td>\n",
       "      <td>28</td>\n",
       "      <td>32.40</td>\n",
       "    </tr>\n",
       "  </tbody>\n",
       "</table>\n",
       "<p>1030 rows × 9 columns</p>\n",
       "</div>"
      ],
      "text/plain": [
       "      Cement (component 1)(kg in a m^3 mixture)  \\\n",
       "0                                         540.0   \n",
       "1                                         540.0   \n",
       "2                                         332.5   \n",
       "3                                         332.5   \n",
       "4                                         198.6   \n",
       "...                                         ...   \n",
       "1025                                      276.4   \n",
       "1026                                      322.2   \n",
       "1027                                      148.5   \n",
       "1028                                      159.1   \n",
       "1029                                      260.9   \n",
       "\n",
       "      Blast Furnace Slag (component 2)(kg in a m^3 mixture)  \\\n",
       "0                                                   0.0       \n",
       "1                                                   0.0       \n",
       "2                                                 142.5       \n",
       "3                                                 142.5       \n",
       "4                                                 132.4       \n",
       "...                                                 ...       \n",
       "1025                                              116.0       \n",
       "1026                                                0.0       \n",
       "1027                                              139.4       \n",
       "1028                                              186.7       \n",
       "1029                                              100.5       \n",
       "\n",
       "      Fly Ash (component 3)(kg in a m^3 mixture)  \\\n",
       "0                                            0.0   \n",
       "1                                            0.0   \n",
       "2                                            0.0   \n",
       "3                                            0.0   \n",
       "4                                            0.0   \n",
       "...                                          ...   \n",
       "1025                                        90.3   \n",
       "1026                                       115.6   \n",
       "1027                                       108.6   \n",
       "1028                                         0.0   \n",
       "1029                                        78.3   \n",
       "\n",
       "      Water  (component 4)(kg in a m^3 mixture)  \\\n",
       "0                                         162.0   \n",
       "1                                         162.0   \n",
       "2                                         228.0   \n",
       "3                                         228.0   \n",
       "4                                         192.0   \n",
       "...                                         ...   \n",
       "1025                                      179.6   \n",
       "1026                                      196.0   \n",
       "1027                                      192.7   \n",
       "1028                                      175.6   \n",
       "1029                                      200.6   \n",
       "\n",
       "      Superplasticizer (component 5)(kg in a m^3 mixture)  \\\n",
       "0                                                   2.5     \n",
       "1                                                   2.5     \n",
       "2                                                   0.0     \n",
       "3                                                   0.0     \n",
       "4                                                   0.0     \n",
       "...                                                 ...     \n",
       "1025                                                8.9     \n",
       "1026                                               10.4     \n",
       "1027                                                6.1     \n",
       "1028                                               11.3     \n",
       "1029                                                8.6     \n",
       "\n",
       "      Coarse Aggregate  (component 6)(kg in a m^3 mixture)  \\\n",
       "0                                                1040.0      \n",
       "1                                                1055.0      \n",
       "2                                                 932.0      \n",
       "3                                                 932.0      \n",
       "4                                                 978.4      \n",
       "...                                                 ...      \n",
       "1025                                              870.1      \n",
       "1026                                              817.9      \n",
       "1027                                              892.4      \n",
       "1028                                              989.6      \n",
       "1029                                              864.5      \n",
       "\n",
       "      Fine Aggregate (component 7)(kg in a m^3 mixture)  Age (day)  \\\n",
       "0                                                 676.0         28   \n",
       "1                                                 676.0         28   \n",
       "2                                                 594.0        270   \n",
       "3                                                 594.0        365   \n",
       "4                                                 825.5        360   \n",
       "...                                                 ...        ...   \n",
       "1025                                              768.3         28   \n",
       "1026                                              813.4         28   \n",
       "1027                                              780.0         28   \n",
       "1028                                              788.9         28   \n",
       "1029                                              761.5         28   \n",
       "\n",
       "      Concrete compressive strength(MPa, megapascals)   \n",
       "0                                                79.99  \n",
       "1                                                61.89  \n",
       "2                                                40.27  \n",
       "3                                                41.05  \n",
       "4                                                44.30  \n",
       "...                                                ...  \n",
       "1025                                             44.28  \n",
       "1026                                             31.18  \n",
       "1027                                             23.70  \n",
       "1028                                             32.77  \n",
       "1029                                             32.40  \n",
       "\n",
       "[1030 rows x 9 columns]"
      ]
     },
     "execution_count": 2,
     "metadata": {},
     "output_type": "execute_result"
    }
   ],
   "source": [
    "dataset=pd.read_csv('Concrete_Data.csv')\n",
    "dataset"
   ]
  },
  {
   "cell_type": "markdown",
   "metadata": {},
   "source": [
    "HANDLING MISSING VALUES"
   ]
  },
  {
   "cell_type": "code",
   "execution_count": 3,
   "metadata": {
    "scrolled": true
   },
   "outputs": [
    {
     "data": {
      "text/plain": [
       "Cement (component 1)(kg in a m^3 mixture)                False\n",
       "Blast Furnace Slag (component 2)(kg in a m^3 mixture)    False\n",
       "Fly Ash (component 3)(kg in a m^3 mixture)               False\n",
       "Water  (component 4)(kg in a m^3 mixture)                False\n",
       "Superplasticizer (component 5)(kg in a m^3 mixture)      False\n",
       "Coarse Aggregate  (component 6)(kg in a m^3 mixture)     False\n",
       "Fine Aggregate (component 7)(kg in a m^3 mixture)        False\n",
       "Age (day)                                                False\n",
       "Concrete compressive strength(MPa, megapascals)          False\n",
       "dtype: bool"
      ]
     },
     "execution_count": 3,
     "metadata": {},
     "output_type": "execute_result"
    }
   ],
   "source": [
    "dataset.isnull().any()"
   ]
  },
  {
   "cell_type": "code",
   "execution_count": 4,
   "metadata": {
    "scrolled": false
   },
   "outputs": [
    {
     "data": {
      "text/html": [
       "<div>\n",
       "<style scoped>\n",
       "    .dataframe tbody tr th:only-of-type {\n",
       "        vertical-align: middle;\n",
       "    }\n",
       "\n",
       "    .dataframe tbody tr th {\n",
       "        vertical-align: top;\n",
       "    }\n",
       "\n",
       "    .dataframe thead th {\n",
       "        text-align: right;\n",
       "    }\n",
       "</style>\n",
       "<table border=\"1\" class=\"dataframe\">\n",
       "  <thead>\n",
       "    <tr style=\"text-align: right;\">\n",
       "      <th></th>\n",
       "      <th>Cement (component 1)(kg in a m^3 mixture)</th>\n",
       "      <th>Blast Furnace Slag (component 2)(kg in a m^3 mixture)</th>\n",
       "      <th>Fly Ash (component 3)(kg in a m^3 mixture)</th>\n",
       "      <th>Water  (component 4)(kg in a m^3 mixture)</th>\n",
       "      <th>Superplasticizer (component 5)(kg in a m^3 mixture)</th>\n",
       "      <th>Coarse Aggregate  (component 6)(kg in a m^3 mixture)</th>\n",
       "      <th>Fine Aggregate (component 7)(kg in a m^3 mixture)</th>\n",
       "      <th>Age (day)</th>\n",
       "      <th>Concrete compressive strength(MPa, megapascals)</th>\n",
       "    </tr>\n",
       "  </thead>\n",
       "  <tbody>\n",
       "    <tr>\n",
       "      <th>count</th>\n",
       "      <td>1030.000000</td>\n",
       "      <td>1030.000000</td>\n",
       "      <td>1030.000000</td>\n",
       "      <td>1030.000000</td>\n",
       "      <td>1030.000000</td>\n",
       "      <td>1030.000000</td>\n",
       "      <td>1030.000000</td>\n",
       "      <td>1030.000000</td>\n",
       "      <td>1030.000000</td>\n",
       "    </tr>\n",
       "    <tr>\n",
       "      <th>mean</th>\n",
       "      <td>281.167864</td>\n",
       "      <td>73.895825</td>\n",
       "      <td>54.188350</td>\n",
       "      <td>181.567282</td>\n",
       "      <td>6.204660</td>\n",
       "      <td>972.918932</td>\n",
       "      <td>773.580485</td>\n",
       "      <td>45.662136</td>\n",
       "      <td>35.817961</td>\n",
       "    </tr>\n",
       "    <tr>\n",
       "      <th>std</th>\n",
       "      <td>104.506364</td>\n",
       "      <td>86.279342</td>\n",
       "      <td>63.997004</td>\n",
       "      <td>21.354219</td>\n",
       "      <td>5.973841</td>\n",
       "      <td>77.753954</td>\n",
       "      <td>80.175980</td>\n",
       "      <td>63.169912</td>\n",
       "      <td>16.705742</td>\n",
       "    </tr>\n",
       "    <tr>\n",
       "      <th>min</th>\n",
       "      <td>102.000000</td>\n",
       "      <td>0.000000</td>\n",
       "      <td>0.000000</td>\n",
       "      <td>121.800000</td>\n",
       "      <td>0.000000</td>\n",
       "      <td>801.000000</td>\n",
       "      <td>594.000000</td>\n",
       "      <td>1.000000</td>\n",
       "      <td>2.330000</td>\n",
       "    </tr>\n",
       "    <tr>\n",
       "      <th>25%</th>\n",
       "      <td>192.375000</td>\n",
       "      <td>0.000000</td>\n",
       "      <td>0.000000</td>\n",
       "      <td>164.900000</td>\n",
       "      <td>0.000000</td>\n",
       "      <td>932.000000</td>\n",
       "      <td>730.950000</td>\n",
       "      <td>7.000000</td>\n",
       "      <td>23.710000</td>\n",
       "    </tr>\n",
       "    <tr>\n",
       "      <th>50%</th>\n",
       "      <td>272.900000</td>\n",
       "      <td>22.000000</td>\n",
       "      <td>0.000000</td>\n",
       "      <td>185.000000</td>\n",
       "      <td>6.400000</td>\n",
       "      <td>968.000000</td>\n",
       "      <td>779.500000</td>\n",
       "      <td>28.000000</td>\n",
       "      <td>34.445000</td>\n",
       "    </tr>\n",
       "    <tr>\n",
       "      <th>75%</th>\n",
       "      <td>350.000000</td>\n",
       "      <td>142.950000</td>\n",
       "      <td>118.300000</td>\n",
       "      <td>192.000000</td>\n",
       "      <td>10.200000</td>\n",
       "      <td>1029.400000</td>\n",
       "      <td>824.000000</td>\n",
       "      <td>56.000000</td>\n",
       "      <td>46.135000</td>\n",
       "    </tr>\n",
       "    <tr>\n",
       "      <th>max</th>\n",
       "      <td>540.000000</td>\n",
       "      <td>359.400000</td>\n",
       "      <td>200.100000</td>\n",
       "      <td>247.000000</td>\n",
       "      <td>32.200000</td>\n",
       "      <td>1145.000000</td>\n",
       "      <td>992.600000</td>\n",
       "      <td>365.000000</td>\n",
       "      <td>82.600000</td>\n",
       "    </tr>\n",
       "  </tbody>\n",
       "</table>\n",
       "</div>"
      ],
      "text/plain": [
       "       Cement (component 1)(kg in a m^3 mixture)  \\\n",
       "count                                1030.000000   \n",
       "mean                                  281.167864   \n",
       "std                                   104.506364   \n",
       "min                                   102.000000   \n",
       "25%                                   192.375000   \n",
       "50%                                   272.900000   \n",
       "75%                                   350.000000   \n",
       "max                                   540.000000   \n",
       "\n",
       "       Blast Furnace Slag (component 2)(kg in a m^3 mixture)  \\\n",
       "count                                        1030.000000       \n",
       "mean                                           73.895825       \n",
       "std                                            86.279342       \n",
       "min                                             0.000000       \n",
       "25%                                             0.000000       \n",
       "50%                                            22.000000       \n",
       "75%                                           142.950000       \n",
       "max                                           359.400000       \n",
       "\n",
       "       Fly Ash (component 3)(kg in a m^3 mixture)  \\\n",
       "count                                 1030.000000   \n",
       "mean                                    54.188350   \n",
       "std                                     63.997004   \n",
       "min                                      0.000000   \n",
       "25%                                      0.000000   \n",
       "50%                                      0.000000   \n",
       "75%                                    118.300000   \n",
       "max                                    200.100000   \n",
       "\n",
       "       Water  (component 4)(kg in a m^3 mixture)  \\\n",
       "count                                1030.000000   \n",
       "mean                                  181.567282   \n",
       "std                                    21.354219   \n",
       "min                                   121.800000   \n",
       "25%                                   164.900000   \n",
       "50%                                   185.000000   \n",
       "75%                                   192.000000   \n",
       "max                                   247.000000   \n",
       "\n",
       "       Superplasticizer (component 5)(kg in a m^3 mixture)  \\\n",
       "count                                        1030.000000     \n",
       "mean                                            6.204660     \n",
       "std                                             5.973841     \n",
       "min                                             0.000000     \n",
       "25%                                             0.000000     \n",
       "50%                                             6.400000     \n",
       "75%                                            10.200000     \n",
       "max                                            32.200000     \n",
       "\n",
       "       Coarse Aggregate  (component 6)(kg in a m^3 mixture)  \\\n",
       "count                                        1030.000000      \n",
       "mean                                          972.918932      \n",
       "std                                            77.753954      \n",
       "min                                           801.000000      \n",
       "25%                                           932.000000      \n",
       "50%                                           968.000000      \n",
       "75%                                          1029.400000      \n",
       "max                                          1145.000000      \n",
       "\n",
       "       Fine Aggregate (component 7)(kg in a m^3 mixture)    Age (day)  \\\n",
       "count                                        1030.000000  1030.000000   \n",
       "mean                                          773.580485    45.662136   \n",
       "std                                            80.175980    63.169912   \n",
       "min                                           594.000000     1.000000   \n",
       "25%                                           730.950000     7.000000   \n",
       "50%                                           779.500000    28.000000   \n",
       "75%                                           824.000000    56.000000   \n",
       "max                                           992.600000   365.000000   \n",
       "\n",
       "       Concrete compressive strength(MPa, megapascals)   \n",
       "count                                       1030.000000  \n",
       "mean                                          35.817961  \n",
       "std                                           16.705742  \n",
       "min                                            2.330000  \n",
       "25%                                           23.710000  \n",
       "50%                                           34.445000  \n",
       "75%                                           46.135000  \n",
       "max                                           82.600000  "
      ]
     },
     "execution_count": 4,
     "metadata": {},
     "output_type": "execute_result"
    }
   ],
   "source": [
    "dataset.describe()"
   ]
  },
  {
   "cell_type": "markdown",
   "metadata": {},
   "source": [
    "HANDLING OUTLIERS"
   ]
  },
  {
   "cell_type": "code",
   "execution_count": 5,
   "metadata": {
    "scrolled": false
   },
   "outputs": [
    {
     "data": {
      "text/plain": [
       "array([[2.47791487, 0.85688789, 0.84714393, ..., 1.21767004, 0.27973311,\n",
       "        2.64540763],\n",
       "       [2.47791487, 0.85688789, 0.84714393, ..., 1.21767004, 0.27973311,\n",
       "        1.56142148],\n",
       "       [0.49142531, 0.79552649, 0.84714393, ..., 2.24091709, 3.55306569,\n",
       "        0.26662698],\n",
       "       ...,\n",
       "       [1.27008832, 0.75957923, 0.85063487, ..., 0.0801067 , 0.27973311,\n",
       "        0.72572939],\n",
       "       [1.16860982, 1.30806485, 0.84714393, ..., 0.19116644, 0.27973311,\n",
       "        0.18253855],\n",
       "       [0.19403325, 0.30849909, 0.3769452 , ..., 0.15074782, 0.27973311,\n",
       "        0.20469738]])"
      ]
     },
     "execution_count": 5,
     "metadata": {},
     "output_type": "execute_result"
    }
   ],
   "source": [
    "from scipy import stats\n",
    "z=np.abs(stats.zscore(dataset))\n",
    "z"
   ]
  },
  {
   "cell_type": "code",
   "execution_count": 6,
   "metadata": {
    "scrolled": true
   },
   "outputs": [
    {
     "data": {
      "text/plain": [
       "(array([  2,   3,   4,   6,  12,  17,  24,  25,  26,  30,  31,  33,  34,\n",
       "         35,  41,  42,  56,  60,  61,  63,  65,  66,  76,  79,  99, 102,\n",
       "        122, 125, 145, 148, 168, 171, 553, 559, 571, 584, 604, 610, 616,\n",
       "        620, 622, 756, 769, 792, 798, 814, 820, 873, 936], dtype=int64),\n",
       " array([7, 7, 7, 7, 7, 7, 7, 7, 7, 7, 7, 7, 7, 7, 7, 7, 7, 7, 7, 7, 7, 7,\n",
       "        4, 4, 4, 4, 4, 4, 4, 4, 4, 4, 1, 1, 1, 1, 7, 7, 7, 7, 7, 7, 7, 7,\n",
       "        7, 7, 7, 3, 3], dtype=int64))"
      ]
     },
     "execution_count": 6,
     "metadata": {},
     "output_type": "execute_result"
    }
   ],
   "source": [
    "threshold=3\n",
    "np.where(z>threshold)"
   ]
  },
  {
   "cell_type": "code",
   "execution_count": 7,
   "metadata": {},
   "outputs": [
    {
     "data": {
      "text/html": [
       "<div>\n",
       "<style scoped>\n",
       "    .dataframe tbody tr th:only-of-type {\n",
       "        vertical-align: middle;\n",
       "    }\n",
       "\n",
       "    .dataframe tbody tr th {\n",
       "        vertical-align: top;\n",
       "    }\n",
       "\n",
       "    .dataframe thead th {\n",
       "        text-align: right;\n",
       "    }\n",
       "</style>\n",
       "<table border=\"1\" class=\"dataframe\">\n",
       "  <thead>\n",
       "    <tr style=\"text-align: right;\">\n",
       "      <th></th>\n",
       "      <th>Cement (component 1)(kg in a m^3 mixture)</th>\n",
       "      <th>Blast Furnace Slag (component 2)(kg in a m^3 mixture)</th>\n",
       "      <th>Fly Ash (component 3)(kg in a m^3 mixture)</th>\n",
       "      <th>Water  (component 4)(kg in a m^3 mixture)</th>\n",
       "      <th>Superplasticizer (component 5)(kg in a m^3 mixture)</th>\n",
       "      <th>Coarse Aggregate  (component 6)(kg in a m^3 mixture)</th>\n",
       "      <th>Fine Aggregate (component 7)(kg in a m^3 mixture)</th>\n",
       "      <th>Age (day)</th>\n",
       "      <th>Concrete compressive strength(MPa, megapascals)</th>\n",
       "    </tr>\n",
       "  </thead>\n",
       "  <tbody>\n",
       "    <tr>\n",
       "      <th>0</th>\n",
       "      <td>540.0</td>\n",
       "      <td>0.0</td>\n",
       "      <td>0.0</td>\n",
       "      <td>162.0</td>\n",
       "      <td>2.5</td>\n",
       "      <td>1040.0</td>\n",
       "      <td>676.0</td>\n",
       "      <td>28</td>\n",
       "      <td>79.99</td>\n",
       "    </tr>\n",
       "    <tr>\n",
       "      <th>1</th>\n",
       "      <td>540.0</td>\n",
       "      <td>0.0</td>\n",
       "      <td>0.0</td>\n",
       "      <td>162.0</td>\n",
       "      <td>2.5</td>\n",
       "      <td>1055.0</td>\n",
       "      <td>676.0</td>\n",
       "      <td>28</td>\n",
       "      <td>61.89</td>\n",
       "    </tr>\n",
       "    <tr>\n",
       "      <th>5</th>\n",
       "      <td>266.0</td>\n",
       "      <td>114.0</td>\n",
       "      <td>0.0</td>\n",
       "      <td>228.0</td>\n",
       "      <td>0.0</td>\n",
       "      <td>932.0</td>\n",
       "      <td>670.0</td>\n",
       "      <td>90</td>\n",
       "      <td>47.03</td>\n",
       "    </tr>\n",
       "    <tr>\n",
       "      <th>7</th>\n",
       "      <td>380.0</td>\n",
       "      <td>95.0</td>\n",
       "      <td>0.0</td>\n",
       "      <td>228.0</td>\n",
       "      <td>0.0</td>\n",
       "      <td>932.0</td>\n",
       "      <td>594.0</td>\n",
       "      <td>28</td>\n",
       "      <td>36.45</td>\n",
       "    </tr>\n",
       "    <tr>\n",
       "      <th>8</th>\n",
       "      <td>266.0</td>\n",
       "      <td>114.0</td>\n",
       "      <td>0.0</td>\n",
       "      <td>228.0</td>\n",
       "      <td>0.0</td>\n",
       "      <td>932.0</td>\n",
       "      <td>670.0</td>\n",
       "      <td>28</td>\n",
       "      <td>45.85</td>\n",
       "    </tr>\n",
       "    <tr>\n",
       "      <th>...</th>\n",
       "      <td>...</td>\n",
       "      <td>...</td>\n",
       "      <td>...</td>\n",
       "      <td>...</td>\n",
       "      <td>...</td>\n",
       "      <td>...</td>\n",
       "      <td>...</td>\n",
       "      <td>...</td>\n",
       "      <td>...</td>\n",
       "    </tr>\n",
       "    <tr>\n",
       "      <th>1025</th>\n",
       "      <td>276.4</td>\n",
       "      <td>116.0</td>\n",
       "      <td>90.3</td>\n",
       "      <td>179.6</td>\n",
       "      <td>8.9</td>\n",
       "      <td>870.1</td>\n",
       "      <td>768.3</td>\n",
       "      <td>28</td>\n",
       "      <td>44.28</td>\n",
       "    </tr>\n",
       "    <tr>\n",
       "      <th>1026</th>\n",
       "      <td>322.2</td>\n",
       "      <td>0.0</td>\n",
       "      <td>115.6</td>\n",
       "      <td>196.0</td>\n",
       "      <td>10.4</td>\n",
       "      <td>817.9</td>\n",
       "      <td>813.4</td>\n",
       "      <td>28</td>\n",
       "      <td>31.18</td>\n",
       "    </tr>\n",
       "    <tr>\n",
       "      <th>1027</th>\n",
       "      <td>148.5</td>\n",
       "      <td>139.4</td>\n",
       "      <td>108.6</td>\n",
       "      <td>192.7</td>\n",
       "      <td>6.1</td>\n",
       "      <td>892.4</td>\n",
       "      <td>780.0</td>\n",
       "      <td>28</td>\n",
       "      <td>23.70</td>\n",
       "    </tr>\n",
       "    <tr>\n",
       "      <th>1028</th>\n",
       "      <td>159.1</td>\n",
       "      <td>186.7</td>\n",
       "      <td>0.0</td>\n",
       "      <td>175.6</td>\n",
       "      <td>11.3</td>\n",
       "      <td>989.6</td>\n",
       "      <td>788.9</td>\n",
       "      <td>28</td>\n",
       "      <td>32.77</td>\n",
       "    </tr>\n",
       "    <tr>\n",
       "      <th>1029</th>\n",
       "      <td>260.9</td>\n",
       "      <td>100.5</td>\n",
       "      <td>78.3</td>\n",
       "      <td>200.6</td>\n",
       "      <td>8.6</td>\n",
       "      <td>864.5</td>\n",
       "      <td>761.5</td>\n",
       "      <td>28</td>\n",
       "      <td>32.40</td>\n",
       "    </tr>\n",
       "  </tbody>\n",
       "</table>\n",
       "<p>981 rows × 9 columns</p>\n",
       "</div>"
      ],
      "text/plain": [
       "      Cement (component 1)(kg in a m^3 mixture)  \\\n",
       "0                                         540.0   \n",
       "1                                         540.0   \n",
       "5                                         266.0   \n",
       "7                                         380.0   \n",
       "8                                         266.0   \n",
       "...                                         ...   \n",
       "1025                                      276.4   \n",
       "1026                                      322.2   \n",
       "1027                                      148.5   \n",
       "1028                                      159.1   \n",
       "1029                                      260.9   \n",
       "\n",
       "      Blast Furnace Slag (component 2)(kg in a m^3 mixture)  \\\n",
       "0                                                   0.0       \n",
       "1                                                   0.0       \n",
       "5                                                 114.0       \n",
       "7                                                  95.0       \n",
       "8                                                 114.0       \n",
       "...                                                 ...       \n",
       "1025                                              116.0       \n",
       "1026                                                0.0       \n",
       "1027                                              139.4       \n",
       "1028                                              186.7       \n",
       "1029                                              100.5       \n",
       "\n",
       "      Fly Ash (component 3)(kg in a m^3 mixture)  \\\n",
       "0                                            0.0   \n",
       "1                                            0.0   \n",
       "5                                            0.0   \n",
       "7                                            0.0   \n",
       "8                                            0.0   \n",
       "...                                          ...   \n",
       "1025                                        90.3   \n",
       "1026                                       115.6   \n",
       "1027                                       108.6   \n",
       "1028                                         0.0   \n",
       "1029                                        78.3   \n",
       "\n",
       "      Water  (component 4)(kg in a m^3 mixture)  \\\n",
       "0                                         162.0   \n",
       "1                                         162.0   \n",
       "5                                         228.0   \n",
       "7                                         228.0   \n",
       "8                                         228.0   \n",
       "...                                         ...   \n",
       "1025                                      179.6   \n",
       "1026                                      196.0   \n",
       "1027                                      192.7   \n",
       "1028                                      175.6   \n",
       "1029                                      200.6   \n",
       "\n",
       "      Superplasticizer (component 5)(kg in a m^3 mixture)  \\\n",
       "0                                                   2.5     \n",
       "1                                                   2.5     \n",
       "5                                                   0.0     \n",
       "7                                                   0.0     \n",
       "8                                                   0.0     \n",
       "...                                                 ...     \n",
       "1025                                                8.9     \n",
       "1026                                               10.4     \n",
       "1027                                                6.1     \n",
       "1028                                               11.3     \n",
       "1029                                                8.6     \n",
       "\n",
       "      Coarse Aggregate  (component 6)(kg in a m^3 mixture)  \\\n",
       "0                                                1040.0      \n",
       "1                                                1055.0      \n",
       "5                                                 932.0      \n",
       "7                                                 932.0      \n",
       "8                                                 932.0      \n",
       "...                                                 ...      \n",
       "1025                                              870.1      \n",
       "1026                                              817.9      \n",
       "1027                                              892.4      \n",
       "1028                                              989.6      \n",
       "1029                                              864.5      \n",
       "\n",
       "      Fine Aggregate (component 7)(kg in a m^3 mixture)  Age (day)  \\\n",
       "0                                                 676.0         28   \n",
       "1                                                 676.0         28   \n",
       "5                                                 670.0         90   \n",
       "7                                                 594.0         28   \n",
       "8                                                 670.0         28   \n",
       "...                                                 ...        ...   \n",
       "1025                                              768.3         28   \n",
       "1026                                              813.4         28   \n",
       "1027                                              780.0         28   \n",
       "1028                                              788.9         28   \n",
       "1029                                              761.5         28   \n",
       "\n",
       "      Concrete compressive strength(MPa, megapascals)   \n",
       "0                                                79.99  \n",
       "1                                                61.89  \n",
       "5                                                47.03  \n",
       "7                                                36.45  \n",
       "8                                                45.85  \n",
       "...                                                ...  \n",
       "1025                                             44.28  \n",
       "1026                                             31.18  \n",
       "1027                                             23.70  \n",
       "1028                                             32.77  \n",
       "1029                                             32.40  \n",
       "\n",
       "[981 rows x 9 columns]"
      ]
     },
     "execution_count": 7,
     "metadata": {},
     "output_type": "execute_result"
    }
   ],
   "source": [
    "dataset=dataset[(z<3).all(axis=1)]\n",
    "dataset"
   ]
  },
  {
   "cell_type": "markdown",
   "metadata": {},
   "source": [
    "SEPERATING DEPENDENT AND INDEPENDENT ATTRIBUTES"
   ]
  },
  {
   "cell_type": "code",
   "execution_count": 8,
   "metadata": {
    "scrolled": true
   },
   "outputs": [
    {
     "data": {
      "text/plain": [
       "array([[ 540. ,    0. ,    0. , ..., 1040. ,  676. ,   28. ],\n",
       "       [ 540. ,    0. ,    0. , ..., 1055. ,  676. ,   28. ],\n",
       "       [ 266. ,  114. ,    0. , ...,  932. ,  670. ,   90. ],\n",
       "       ...,\n",
       "       [ 148.5,  139.4,  108.6, ...,  892.4,  780. ,   28. ],\n",
       "       [ 159.1,  186.7,    0. , ...,  989.6,  788.9,   28. ],\n",
       "       [ 260.9,  100.5,   78.3, ...,  864.5,  761.5,   28. ]])"
      ]
     },
     "execution_count": 8,
     "metadata": {},
     "output_type": "execute_result"
    }
   ],
   "source": [
    "x=dataset.iloc[:,:8].values\n",
    "x"
   ]
  },
  {
   "cell_type": "code",
   "execution_count": 9,
   "metadata": {},
   "outputs": [
    {
     "data": {
      "text/plain": [
       "array([79.99, 61.89, 47.03, 36.45, 45.85, 39.29, 38.07, 28.02, 42.33,\n",
       "       47.81, 52.91, 39.36, 40.56, 42.62, 41.84, 28.24,  8.06, 44.21,\n",
       "       52.12, 37.43, 38.6 , 41.72, 30.08, 37.72, 42.23, 36.25, 50.46,\n",
       "       53.1 , 41.54, 35.08, 15.05, 40.76, 26.26, 32.82, 39.78, 46.93,\n",
       "       33.12, 49.19, 14.59, 14.64,  9.13, 50.95, 33.02,  9.87, 48.7 ,\n",
       "       30.28, 40.86, 71.99, 34.4 , 28.8 , 33.4 , 36.3 , 29.  , 37.8 ,\n",
       "       33.4 , 28.1 , 33.4 , 25.2 , 41.1 , 35.3 , 28.3 , 28.6 , 35.3 ,\n",
       "       24.4 , 35.3 , 39.3 , 40.6 , 35.3 , 24.1 , 46.2 , 42.8 , 49.2 ,\n",
       "       46.8 , 45.7 , 55.6 , 49.2 , 34.9 , 49.2 , 33.4 , 54.1 , 55.9 ,\n",
       "       49.8 , 47.1 , 55.9 , 38.  , 55.9 , 56.1 , 59.09, 22.9 , 35.1 ,\n",
       "       61.09, 59.8 , 60.29, 61.8 , 56.7 , 68.3 , 60.29, 50.7 , 60.29,\n",
       "       55.5 , 68.5 , 71.3 , 74.7 , 52.2 , 71.3 , 67.7 , 71.3 , 66.  ,\n",
       "       74.5 , 71.3 , 49.9 , 63.4 , 64.9 , 64.3 , 64.9 , 60.2 , 72.3 ,\n",
       "       64.3 , 55.2 , 64.3 , 66.1 , 73.7 , 77.3 , 80.2 , 54.9 , 77.3 ,\n",
       "       72.99, 77.3 , 71.7 , 79.4 , 77.3 , 59.89, 64.9 , 66.6 , 65.2 ,\n",
       "       66.7 , 62.5 , 74.19, 65.2 , 57.6 , 65.2 , 68.1 , 75.5 , 79.3 ,\n",
       "       56.5 , 79.3 , 76.8 , 79.3 , 73.3 , 82.6 , 79.3 , 67.8 , 11.58,\n",
       "       24.45, 24.89, 29.45, 40.71, 10.38, 22.14, 22.84, 27.66, 34.56,\n",
       "       12.45, 24.99, 25.72, 33.96, 37.34, 15.04, 21.06, 26.4 , 35.34,\n",
       "       40.57, 12.47, 20.92, 24.9 , 34.2 , 39.61, 10.03, 20.08, 24.48,\n",
       "       31.54, 35.34,  9.45, 22.72, 28.47, 38.56, 40.39, 10.76, 25.48,\n",
       "       21.54, 28.63, 33.54,  7.75, 17.82, 24.24, 32.85, 39.23, 18.  ,\n",
       "       30.39, 45.71, 50.77, 53.9 , 13.18, 17.84, 40.23, 47.13, 49.97,\n",
       "       13.36, 22.32, 24.54, 31.35, 40.86, 19.93, 25.69, 30.23, 39.59,\n",
       "       44.3 , 13.82, 24.92, 29.22, 38.33, 42.35, 13.54, 26.31, 31.64,\n",
       "       42.55, 42.92, 13.33, 25.37, 37.4 , 44.4 , 47.74, 19.52, 31.35,\n",
       "       38.5 , 45.08, 47.82, 15.44, 26.77, 33.73, 42.7 , 45.84, 17.22,\n",
       "       29.93, 29.65, 36.97, 43.58, 13.12, 24.43, 32.66, 36.64, 44.21,\n",
       "       13.62, 21.6 , 27.77, 35.57, 45.37,  7.32, 21.5 , 31.27, 43.5 ,\n",
       "       48.67,  7.4 , 23.51, 31.12, 39.15, 48.15, 22.5 , 34.67, 34.74,\n",
       "       45.08, 48.97, 23.14, 41.89, 48.28, 51.04, 55.64, 22.95, 35.23,\n",
       "       39.94, 48.72, 52.04, 21.02, 33.36, 33.94, 44.14, 45.37, 15.36,\n",
       "       28.68, 30.85, 42.03, 51.06, 21.78, 42.29, 50.6 , 55.83, 60.95,\n",
       "       23.52, 42.22, 52.5 , 60.32, 66.42, 23.8 , 38.77, 51.33, 56.85,\n",
       "       58.61, 21.91, 36.99, 47.4 , 51.96, 56.74, 17.57, 33.73, 40.15,\n",
       "       46.64, 50.08, 17.37, 33.7 , 45.94, 51.43, 59.3 , 30.45, 47.71,\n",
       "       63.14, 66.82, 66.95, 27.42, 35.96, 55.51, 61.99, 63.53, 18.02,\n",
       "       38.6 , 52.2 , 53.96, 56.63, 15.34, 26.05, 30.22, 37.27, 46.23,\n",
       "       16.28, 25.62, 31.97, 36.3 , 43.06, 67.57, 57.23, 81.75, 64.02,\n",
       "       78.8 , 41.37, 60.28, 56.83, 51.02, 55.55, 44.13, 39.38, 55.65,\n",
       "       47.28, 44.33, 52.3 , 49.25, 41.37, 29.16, 39.4 , 39.3 , 67.87,\n",
       "       58.52, 53.58, 59.  , 76.24, 69.84, 14.4 , 19.42, 20.73, 14.94,\n",
       "       21.29, 23.08, 15.52, 15.82, 12.55,  8.49, 15.61, 12.18, 11.98,\n",
       "       16.88, 33.09, 34.24, 31.81, 29.75, 33.01, 32.9 , 29.55, 19.42,\n",
       "       24.66, 29.59, 24.28, 20.73, 26.2 , 46.39, 39.16, 41.2 , 33.69,\n",
       "       38.2 , 41.41, 37.81, 24.85, 27.22, 44.64, 37.27, 33.27, 36.56,\n",
       "       53.72, 48.59, 51.72, 35.85, 53.77, 53.46, 48.99, 31.72, 39.64,\n",
       "       51.26, 43.39, 39.27, 37.96, 55.02, 49.99, 53.66, 37.68, 56.06,\n",
       "       56.81, 50.94, 33.56, 41.16, 52.96, 44.28, 40.15, 57.03, 44.42,\n",
       "       51.02, 53.39, 35.36, 25.02, 23.35, 52.01, 38.02, 39.3 , 61.07,\n",
       "       56.14, 55.25, 54.77, 50.24, 46.68, 46.68, 22.75, 25.51, 34.77,\n",
       "       36.84, 45.9 , 41.67, 56.34, 47.97, 61.46, 44.03, 55.45, 55.55,\n",
       "       57.92, 25.61, 33.49, 59.59, 29.55, 37.92, 61.86, 62.05, 32.01,\n",
       "       72.1 , 39.  , 65.7 , 32.11, 40.29, 74.36, 21.97,  9.85, 15.07,\n",
       "       23.25, 43.73, 13.4 , 24.13, 44.52, 62.94, 59.49, 25.12, 23.64,\n",
       "       35.75, 38.61, 68.75, 66.78, 23.85, 32.07, 11.65, 19.2 , 48.85,\n",
       "       39.6 , 43.94, 34.57, 54.32, 24.4 , 15.62, 21.86, 10.22, 14.6 ,\n",
       "       18.75, 31.97, 23.4 , 25.57, 41.68, 27.74,  8.2 ,  9.62, 15.69,\n",
       "       27.94, 32.63, 17.24, 19.77, 25.75, 33.08, 24.07, 21.82, 21.07,\n",
       "       14.84, 32.05, 11.96, 25.45, 22.49, 25.22, 13.09, 38.7 ,  7.51,\n",
       "       17.58, 21.18, 18.2 , 17.2 , 22.63, 21.86, 12.37, 25.73, 37.81,\n",
       "       33.04, 14.54, 26.91,  8.  , 31.9 , 10.34, 19.77, 37.44, 11.48,\n",
       "       24.44, 17.6 , 10.73, 31.38, 13.22, 20.97, 27.04, 32.04, 35.17,\n",
       "       36.45,  6.47, 12.84, 18.42, 21.95, 24.1 , 21.26, 25.97, 11.36,\n",
       "       31.25, 32.33,  9.31, 26.94, 27.63, 34.49, 12.54, 27.53, 32.92,\n",
       "        9.99,  7.84, 12.25, 11.17, 17.34, 17.54, 30.57, 14.2 , 24.5 ,\n",
       "       15.58, 26.85, 26.06, 38.21, 43.7 , 30.14, 12.73, 20.87, 20.28,\n",
       "       34.29, 19.54, 47.71, 43.38, 29.89,  6.9 , 33.19,  4.9 ,  4.57,\n",
       "       25.46, 24.29, 33.95, 11.41, 20.59, 25.89, 29.23, 31.02, 10.39,\n",
       "       33.66, 27.87, 19.35, 11.39, 12.79, 39.32,  4.78, 16.11, 43.38,\n",
       "       20.42,  6.94, 15.03, 13.57, 32.53, 15.75,  7.68, 38.8 , 33.  ,\n",
       "       17.28, 24.28, 24.05, 36.59, 50.73, 13.66, 14.14, 47.78,  2.33,\n",
       "       16.89, 23.52,  6.81, 39.7 , 17.96, 32.88, 22.35, 10.79,  7.72,\n",
       "       41.68,  9.56,  6.88, 50.53, 17.17, 30.44,  9.73,  3.32, 26.32,\n",
       "       43.25,  6.28, 32.1 , 36.96, 54.6 , 21.48,  9.69,  8.37, 39.66,\n",
       "       10.09,  4.83, 10.35, 43.57, 51.86, 11.85, 17.24, 27.83, 35.76,\n",
       "       38.7 , 14.31, 17.44, 31.74, 37.91, 39.38, 15.87,  9.01, 33.61,\n",
       "       40.66, 40.86, 12.05, 17.54, 18.91, 25.18, 30.96, 43.89, 54.28,\n",
       "       36.94, 14.5 , 22.44, 12.64, 26.06, 33.21, 36.94, 44.09, 52.61,\n",
       "       59.76, 67.31, 69.66, 71.62, 18.13, 22.53, 27.34, 29.98, 31.35,\n",
       "       32.72,  6.27, 14.7 , 23.22, 27.92, 31.35, 39.  , 14.99, 13.52,\n",
       "       24.  , 37.42, 11.47, 22.44, 21.16, 31.84, 14.8 , 25.18, 17.54,\n",
       "       14.2 , 21.65, 29.39, 13.52, 16.26, 31.45, 37.23, 18.13, 32.72,\n",
       "       39.49, 41.05, 18.13, 26.74, 61.92, 47.22, 51.04, 41.64, 13.71,\n",
       "       19.69, 31.65, 19.11, 39.58, 48.79, 24.  , 37.42, 11.47, 19.69,\n",
       "       14.99, 27.92, 34.68, 37.33, 33.8 , 42.42, 48.4 , 55.94, 58.78,\n",
       "       20.77, 25.18, 29.59, 21.75, 39.09, 24.39, 50.51, 74.99, 37.17,\n",
       "       33.76, 16.5 , 19.99, 36.35, 33.69, 15.42, 33.42, 39.05, 27.68,\n",
       "       26.86, 45.3 , 30.12, 15.57, 44.61, 53.52, 57.21, 65.91, 52.82,\n",
       "       33.4 , 18.03, 37.36, 32.84, 42.64, 40.06, 41.94, 61.23, 40.87,\n",
       "       33.3 , 52.42, 15.09, 38.46, 37.26, 35.23, 42.13, 31.87, 41.54,\n",
       "       39.45, 37.91, 44.28, 31.18, 23.69, 32.76, 32.4 , 36.8 , 18.28,\n",
       "       33.06, 31.42, 31.03, 44.39, 12.18, 25.56, 36.44, 32.96, 23.84,\n",
       "       26.23, 17.95, 40.68, 19.01, 33.72,  8.54, 13.46, 32.24, 23.52,\n",
       "       29.72, 49.77, 52.44, 40.93, 44.86, 13.2 , 37.43, 29.87, 56.61,\n",
       "       12.46, 23.79, 13.29, 39.42, 46.23, 44.52, 23.74, 26.14, 15.52,\n",
       "       43.57, 35.86, 41.05, 28.99, 46.24, 26.92, 10.54, 25.1 , 29.07,\n",
       "        9.74, 33.8 , 39.84, 26.97, 27.23, 30.65, 33.05, 24.58, 21.91,\n",
       "       30.88, 15.34, 24.34, 23.89, 22.93, 29.41, 36.8 , 18.29, 32.72,\n",
       "       31.42, 28.94, 40.93, 12.18, 25.56, 36.44, 32.96, 23.84, 26.23,\n",
       "       17.96, 38.63, 19.01, 33.72,  8.54, 13.46, 32.25, 23.52, 29.73,\n",
       "       49.77, 52.45, 40.93, 44.87, 13.2 , 37.43, 29.87, 56.62, 12.46,\n",
       "       23.79, 13.29, 39.42, 46.23, 44.52, 23.74, 26.15, 15.53, 43.58,\n",
       "       35.87, 41.05, 28.99, 46.25, 26.92, 10.54, 25.1 , 29.07,  9.74,\n",
       "       33.8 , 37.17, 33.76, 16.5 , 19.99, 36.35, 38.22, 15.42, 33.42,\n",
       "       39.06, 27.68, 26.86, 45.3 , 30.12, 15.57, 44.61, 53.52, 57.22,\n",
       "       65.91, 52.83, 33.4 , 18.03, 37.36, 35.31, 42.64, 40.06, 43.8 ,\n",
       "       61.24, 40.87, 33.31, 52.43, 15.09, 38.46, 37.27, 35.23, 42.14,\n",
       "       31.88, 41.54, 39.46, 37.92, 44.28, 31.18, 23.7 , 32.77, 32.4 ])"
      ]
     },
     "execution_count": 9,
     "metadata": {},
     "output_type": "execute_result"
    }
   ],
   "source": [
    "y=dataset.iloc[:,8].values\n",
    "y"
   ]
  },
  {
   "cell_type": "markdown",
   "metadata": {},
   "source": [
    "DATA VISUALISATION"
   ]
  },
  {
   "cell_type": "code",
   "execution_count": 10,
   "metadata": {},
   "outputs": [
    {
     "data": {
      "image/png": "[encoded data removed]",
      "text/plain": [
       "<Figure size 432x288 with 1 Axes>"
      ]
     },
     "metadata": {
      "needs_background": "light"
     },
     "output_type": "display_data"
    },
    {
     "data": {
      "image/png": "[encoded data removed]",
      "text/plain": [
       "<Figure size 432x288 with 1 Axes>"
      ]
     },
     "metadata": {
      "needs_background": "light"
     },
     "output_type": "display_data"
    },
    {
     "data": {
      "image/png": "[encoded data removed]",
      "text/plain": [
       "<Figure size 432x288 with 1 Axes>"
      ]
     },
     "metadata": {
      "needs_background": "light"
     },
     "output_type": "display_data"
    },
    {
     "data": {
      "image/png": "[encoded data removed]",
      "text/plain": [
       "<Figure size 432x288 with 1 Axes>"
      ]
     },
     "metadata": {
      "needs_background": "light"
     },
     "output_type": "display_data"
    },
    {
     "data": {
      "image/png": "[encoded data removed]",
      "text/plain": [
       "<Figure size 432x288 with 1 Axes>"
      ]
     },
     "metadata": {
      "needs_background": "light"
     },
     "output_type": "display_data"
    },
    {
     "data": {
      "image/png": "[encoded data removed]",
      "text/plain": [
       "<Figure size 432x288 with 1 Axes>"
      ]
     },
     "metadata": {
      "needs_background": "light"
     },
     "output_type": "display_data"
    },
    {
     "data": {
      "image/png": "[encoded data removed]",
      "text/plain": [
       "<Figure size 432x288 with 1 Axes>"
      ]
     },
     "metadata": {
      "needs_background": "light"
     },
     "output_type": "display_data"
    },
    {
     "data": {
      "image/png": "[encoded data removed]",
      "text/plain": [
       "<Figure size 432x288 with 1 Axes>"
      ]
     },
     "metadata": {
      "needs_background": "light"
     },
     "output_type": "display_data"
    }
   ],
   "source": [
    "for i in range(0,8):\n",
    "    plt.scatter(x[:,i],y)\n",
    "    plt.show()"
   ]
  },
  {
   "cell_type": "markdown",
   "metadata": {},
   "source": [
    "SPLITTING INTO TEST AND TRAIN PARTS"
   ]
  },
  {
   "cell_type": "code",
   "execution_count": 11,
   "metadata": {},
   "outputs": [],
   "source": [
    "from sklearn.model_selection import train_test_split\n",
    "x_train,x_test,y_train,y_test=train_test_split(x,y,test_size=0.2,random_state=0)"
   ]
  },
  {
   "cell_type": "markdown",
   "metadata": {},
   "source": [
    "BUILDING THE MODEL"
   ]
  },
  {
   "cell_type": "code",
   "execution_count": 12,
   "metadata": {},
   "outputs": [],
   "source": [
    "from sklearn.ensemble import  RandomForestRegressor"
   ]
  },
  {
   "cell_type": "code",
   "execution_count": 33,
   "metadata": {},
   "outputs": [],
   "source": [
    "rf=RandomForestRegressor(n_estimators=25,criterion='mse',random_state=0)"
   ]
  },
  {
   "cell_type": "code",
   "execution_count": 34,
   "metadata": {},
   "outputs": [
    {
     "data": {
      "text/plain": [
       "RandomForestRegressor(bootstrap=True, ccp_alpha=0.0, criterion='mse',\n",
       "                      max_depth=None, max_features='auto', max_leaf_nodes=None,\n",
       "                      max_samples=None, min_impurity_decrease=0.0,\n",
       "                      min_impurity_split=None, min_samples_leaf=1,\n",
       "                      min_samples_split=2, min_weight_fraction_leaf=0.0,\n",
       "                      n_estimators=25, n_jobs=None, oob_score=False,\n",
       "                      random_state=0, verbose=0, warm_start=False)"
      ]
     },
     "execution_count": 34,
     "metadata": {},
     "output_type": "execute_result"
    }
   ],
   "source": [
    "rf.fit(x_train,y_train)"
   ]
  },
  {
   "cell_type": "markdown",
   "metadata": {},
   "source": [
    "TESTING THE MODEL"
   ]
  },
  {
   "cell_type": "code",
   "execution_count": 35,
   "metadata": {},
   "outputs": [
    {
     "data": {
      "text/plain": [
       "array([56.9108    , 43.3648    , 51.1404    , 25.2288    , 33.0524    ,\n",
       "       76.4312    , 43.5304    , 55.4744    , 59.3952    , 34.5832    ,\n",
       "       29.8744    , 63.5874    , 25.8368    , 34.1496    , 41.4192    ,\n",
       "       41.3576    , 32.2476    , 33.4072    , 54.9984    , 48.768     ,\n",
       "       10.7384    , 42.6776    , 59.9784    , 58.3972    , 42.0732    ,\n",
       "       10.9096    , 25.13596667, 32.0628    , 59.7492    , 46.5716    ,\n",
       "       55.06562   , 33.2224    , 43.222     , 31.4116    , 14.3508    ,\n",
       "       38.9504    , 14.3728    , 32.1888    , 35.2812    , 32.4556    ,\n",
       "       24.5388    , 21.0444    , 38.768     , 28.6704    , 28.3148    ,\n",
       "       34.4448    , 25.1328    , 36.9556    , 36.6728    , 62.8216    ,\n",
       "       19.5728    , 49.3268    ,  9.7912    , 36.2992    , 45.326     ,\n",
       "       16.748     , 36.052     , 44.8932    , 44.6656    , 34.5472    ,\n",
       "       23.0504    , 60.1124    , 16.9528    , 16.0604    , 33.4208    ,\n",
       "       10.8848    , 44.18996   , 38.066     , 45.3744    , 44.2072    ,\n",
       "       33.1488    , 23.4924    , 70.8266    , 14.2676    , 15.2536    ,\n",
       "       42.4452    ,  9.3508    , 65.6108    , 17.9612    , 37.678     ,\n",
       "       44.1276    , 44.9416    , 35.0608    , 21.1504    , 22.9072    ,\n",
       "       31.83226667, 14.2484    , 50.3876    , 46.5904    , 49.2276    ,\n",
       "       28.1348    , 29.4856    , 26.5052    , 57.1032    , 52.8052    ,\n",
       "       54.2116    , 44.664     , 24.1432    , 19.4464    , 40.9816    ,\n",
       "       26.0328    , 28.5896    , 33.886     , 28.1276    , 12.5496    ,\n",
       "       46.506     , 53.598     , 58.8156    , 71.7648    , 55.5276    ,\n",
       "       48.9196    , 65.963     , 17.034     , 10.1356    , 30.9344    ,\n",
       "       18.03      , 49.0156    , 55.7732    , 40.4564    , 47.0852    ,\n",
       "       36.3036    , 49.1484    , 68.9392    , 43.436     , 16.7888    ,\n",
       "       29.9448    , 40.5742    , 15.8664    , 34.3636    , 43.2528    ,\n",
       "       27.7388    , 21.0248    , 33.924     , 43.674     , 32.1828    ,\n",
       "       15.324     , 38.9504    , 15.2672    , 12.8068    , 32.784     ,\n",
       "       32.9728    , 31.3408    , 25.99613333, 28.506     , 33.2224    ,\n",
       "       33.9228    , 49.37      , 36.328     , 16.962     , 17.8056    ,\n",
       "       13.8172    , 28.546     , 33.7652    , 33.0348    , 78.58      ,\n",
       "       38.29      , 60.1124    , 29.0048    , 31.3172    , 23.4152    ,\n",
       "       38.0508    , 64.4012    , 58.514     , 58.83530667, 39.7036    ,\n",
       "       35.6624    , 52.7812    , 48.3716    , 35.8128    , 59.4264    ,\n",
       "       23.3348    , 18.0936    , 50.8988    , 29.75      , 40.5704    ,\n",
       "       34.3556    ,  6.492     , 36.3036    , 40.3636    , 30.3984    ,\n",
       "       78.58      , 37.4908    , 24.3452    , 21.0428    , 53.8744    ,\n",
       "       21.7216    , 13.9796    , 32.7344    , 38.14986667, 44.998     ,\n",
       "       38.8736    , 64.11      , 35.2268    , 49.9828    , 18.0936    ,\n",
       "       36.342     , 53.9928    ])"
      ]
     },
     "execution_count": 35,
     "metadata": {},
     "output_type": "execute_result"
    }
   ],
   "source": [
    "y_pred=rf.predict(x_test)\n",
    "y_pred"
   ]
  },
  {
   "cell_type": "code",
   "execution_count": 36,
   "metadata": {},
   "outputs": [
    {
     "data": {
      "text/plain": [
       "array([61.86, 47.82, 53.1 , 27.87, 36.94, 77.3 , 44.4 , 58.61, 52.2 ,\n",
       "       34.68, 30.28, 74.36, 25.51, 33.19, 45.94, 41.84, 28.1 , 35.23,\n",
       "       59.59, 49.2 , 11.41, 35.57, 67.31, 61.24, 40.76, 10.79, 35.36,\n",
       "       29.98, 74.99, 39.66, 44.42, 33.4 , 39.42, 29.23, 13.29, 41.54,\n",
       "       11.98, 31.81, 37.36, 42.22, 23.7 , 19.11, 50.6 , 27.22, 29.41,\n",
       "       36.56, 27.92, 39.64, 31.35, 65.91, 17.96, 50.08,  9.85, 35.23,\n",
       "       39.38, 16.28, 39.27, 49.77, 42.7 , 34.2 , 19.42, 41.37, 14.84,\n",
       "       15.69, 39.3 , 12.05, 39.  , 36.45, 48.67, 43.58, 33.05, 27.04,\n",
       "       74.5 , 15.03, 17.24, 39.59,  9.69, 68.1 , 13.18, 45.9 , 46.23,\n",
       "       38.7 , 33.8 , 23.14, 22.5 , 39.3 , 14.31, 48.97, 39.7 , 59.76,\n",
       "       39.4 , 32.66, 21.6 , 50.7 , 44.03, 55.55, 50.51, 25.18, 19.69,\n",
       "       41.2 , 28.3 , 33.06, 31.38, 49.25, 10.39, 47.78, 55.94, 72.1 ,\n",
       "       75.5 , 55.55, 45.08, 78.8 , 17.37,  6.47, 33.73, 21.82, 43.57,\n",
       "       57.21, 39.06, 42.33, 39.45, 52.82, 71.3 , 41.94, 15.09, 29.73,\n",
       "       37.27, 15.34, 31.18, 44.21, 34.24, 26.06, 33.4 , 39.78, 39.32,\n",
       "       15.05, 41.54, 13.52, 13.62, 31.12, 33.61, 32.24, 34.77, 32.72,\n",
       "       33.4 , 29.59, 52.44, 35.76, 14.99, 18.02, 15.07, 30.23, 37.81,\n",
       "       36.44, 79.3 , 33.42, 41.37, 27.63, 27.23, 23.79, 41.41, 56.5 ,\n",
       "       61.92, 55.25, 41.16, 32.72, 51.96, 53.52, 36.94, 61.99, 18.75,\n",
       "        9.01, 52.3 , 40.23, 39.29, 33.76,  3.32, 39.46, 39.23, 33.  ,\n",
       "       79.3 , 52.5 , 27.74, 18.29, 51.72, 19.01,  7.4 , 32.63, 35.75,\n",
       "       48.85, 35.86, 64.3 , 38.21, 49.19, 18.13, 30.65, 56.74])"
      ]
     },
     "execution_count": 36,
     "metadata": {},
     "output_type": "execute_result"
    }
   ],
   "source": [
    "y_test"
   ]
  },
  {
   "cell_type": "markdown",
   "metadata": {},
   "source": [
    "FINDING ACCURACY"
   ]
  },
  {
   "cell_type": "code",
   "execution_count": 37,
   "metadata": {},
   "outputs": [],
   "source": [
    "from sklearn.metrics import r2_score"
   ]
  },
  {
   "cell_type": "code",
   "execution_count": 38,
   "metadata": {},
   "outputs": [
    {
     "data": {
      "text/plain": [
       "0.9054226432751"
      ]
     },
     "execution_count": 38,
     "metadata": {},
     "output_type": "execute_result"
    }
   ],
   "source": [
    "r2_score(y_test,y_pred)"
   ]
  },
  {
   "cell_type": "markdown",
   "metadata": {},
   "source": [
    "SAVING THE MODEL"
   ]
  },
  {
   "cell_type": "code",
   "execution_count": 39,
   "metadata": {},
   "outputs": [
    {
     "data": {
      "text/plain": [
       "['Concrete.save']"
      ]
     },
     "execution_count": 39,
     "metadata": {},
     "output_type": "execute_result"
    }
   ],
   "source": [
    "from joblib import dump\n",
    "dump(rf,'Concrete.save')"
   ]
  },
  {
   "cell_type": "code",
   "execution_count": null,
   "metadata": {},
   "outputs": [],
   "source": []
  }
 ],
 "metadata": {
  "kernelspec": {
   "display_name": "Python 3",
   "language": "python",
   "name": "python3"
  },
  "language_info": {
   "codemirror_mode": {
    "name": "ipython",
    "version": 3
   },
   "file_extension": ".py",
   "mimetype": "text/x-python",
   "name": "python",
   "nbconvert_exporter": "python",
   "pygments_lexer": "ipython3",
   "version": "3.7.6"
  }
 },
 "nbformat": 4,
 "nbformat_minor": 4
}
